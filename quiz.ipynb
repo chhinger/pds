{
 "cells": [
  {
   "cell_type": "code",
   "execution_count": 1,
   "metadata": {},
   "outputs": [
    {
     "name": "stdout",
     "output_type": "stream",
     "text": [
      "Michael    35\n",
      "Lucy       25\n",
      "Smith      32\n",
      "Andrea     22\n",
      "Jane       20\n",
      "Name: Age, dtype: int64\n"
     ]
    }
   ],
   "source": [
    "import pandas as pd\n",
    "sr = pd.Series(data=[35, 25, 32, 22, 20])\n",
    "sr.index = ['Michael', 'Lucy', 'Smith', 'Andrea', 'Jane']\n",
    "sr.name = \"Age\"\n",
    "print(sr)"
   ]
  },
  {
   "cell_type": "code",
   "execution_count": 2,
   "metadata": {},
   "outputs": [],
   "source": [
    "import numpy as np\n",
    "import pandas as pd\n",
    "\n",
    "sr = pd.Series(\n",
    "    data=np.array(object=[35, 25, 32, 22, 20], dtype=np.int64),\n",
    "    index=pd.Index(name=\"Name\", data=[\"Michael\", \"Lucy\", \"Smith\", \"Andrea\", \"Jane\"]),\n",
    "    name=\"Age\",\n",
    ")"
   ]
  },
  {
   "cell_type": "code",
   "execution_count": null,
   "metadata": {},
   "outputs": [],
   "source": []
  }
 ],
 "metadata": {
  "kernelspec": {
   "display_name": "Python 3",
   "language": "python",
   "name": "python3"
  },
  "language_info": {
   "codemirror_mode": {
    "name": "ipython",
    "version": 3
   },
   "file_extension": ".py",
   "mimetype": "text/x-python",
   "name": "python",
   "nbconvert_exporter": "python",
   "pygments_lexer": "ipython3",
   "version": "3.9.6"
  }
 },
 "nbformat": 4,
 "nbformat_minor": 2
}
