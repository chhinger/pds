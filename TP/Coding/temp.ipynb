{
 "cells": [
  {
   "cell_type": "code",
   "execution_count": 11,
   "metadata": {},
   "outputs": [
    {
     "name": "stdout",
     "output_type": "stream",
     "text": [
      "id=1 name='Michael' email='say_ol@yahoo.com' age=38\n",
      "{'id': 1, 'name': 'Michael', 'email': 'say_ol@yahoo.com', 'age': 38}\n"
     ]
    }
   ],
   "source": [
    "from pydantic import BaseModel\n",
    "class User(BaseModel):\n",
    "    id: int\n",
    "    name: str\n",
    "    email: str\n",
    "    age: int\n",
    "if __name__ == \"__main__\":\n",
    "    user = User(id=1, name=\"Michael\", email=\"say_ol@yahoo.com\", age=38)\n",
    "    print(user)\n",
    "    print(user.model_dump())"
   ]
  },
  {
   "cell_type": "code",
   "execution_count": 18,
   "metadata": {},
   "outputs": [
    {
     "name": "stdout",
     "output_type": "stream",
     "text": [
      "C:\\Users\\ASUS\\AppData\\Local\\Temp\n",
      "C:\\Users\\ASUS\\AppData\\Local\\Temp\n",
      "d:\\.venv_fastapi\\Scripts;D:\\.venv_fastapi\\Scripts;C:\\Users\\ASUS\\anaconda3\\condabin;C:\\Program Files\\PowerShell\\7;C:\\WINDOWS\\system32;C:\\WINDOWS;C:\\WINDOWS\\System32\\Wbem;C:\\WINDOWS\\System32\\WindowsPowerShell\\v1.0;C:\\WINDOWS\\System32\\OpenSSH;C:\\texlive\\2024\\bin\\windows;c:\\Users\\ASUS\\AppData\\Local\\Programs\\cursor\\resources\\app\\bin;C:\\Program Files\\PowerShell\\7;C:\\Program Files\\NVIDIA Corporation\\Nsight Compute 2019.1;C:\\Program Files\\Pandoc;C:\\Program Files\\Docker\\Docker\\resources\\bin;C:\\Program Files\\dotnet;C:\\Program Files\\nodejs;C:\\Program Files\\GitHub CLI;C:\\Program Files\\Git\\cmd;C:\\Users\\ASUS\\AppData\\Local\\Programs\\Python\\Launcher;C:\\Users\\ASUS\\AppData\\Local\\Programs\\Python\\Python312\\Scripts;C:\\Users\\ASUS\\AppData\\Local\\Programs\\Python\\Python312;C:\\Users\\ASUS\\AppData\\Local\\Microsoft\\WindowsApps;C:\\Users\\ASUS\\AppData\\Local\\Programs\\Microsoft VS Code;C:\\Program Files\\texstudio;C:\\Users\\ASUS\\AppData\\Local\\Programs\\oh-my-posh\\bin;C:\\Program Files (x86)\\Google\\Chrome\\Application;C:\\Program Files (x86)\\Foxit Software\\Foxit PDF Reader;C:\\Program Files\\Microsoft Office\\root\\Office16;C:\\Users\\ASUS\\AppData\\Roaming\\Telegram Desktop;C:\\Program Files\\obs-studio\\bin\\64bit;C:\\Program Files\\WinRAR;C:\\Program Files\\PowerISO;C:\\Program Files\\Google\\Chrome\\Application;D:\\.deep_venv\\Scripts;D:\\.deep_venv;D:\\.data_venv\\Scripts;D:\\.data_venv;D:\\.venv\\Scripts;D:\\.venv;D:\\.venv_django\\Scripts;D:\\.venv_django;D:\\.venv_fastapi\\Scripts;D:\\.venv_fastapi;D:\\.venv_flask\\Scripts;D:\\.venv_flask;D:\\.venv_webscrape\\Scripts;D:\\.venv_webscrape;C:\\Users\\ASUS\\dev\\flutter\\bin;C:\\Users\\ASUS\\AppData\\Local\\Microsoft\\WinGet\\Links;C:\\Program Files\\Wolfram Research\\Wolfram\\14.1;C:\\Users\\ASUS\\AppData\\Local\\Programs\\MechvibesPlusPlus;C:\\Program Files\\Vim\\vim91;C:\\Users\\ASUS\\.dotnet\\tools;C:\\Users\\ASUS\\AppData\\Roaming\\npm;C:\\Users\\ASUS\\anaconda3\\Scripts;C:\\Users\\ASUS\\anaconda3;C:\\Program Files\\MySQL\\MySQL Server 8.4\\bin;.\n"
     ]
    }
   ],
   "source": [
    "from pydantic_settings import BaseSettings\n",
    "class Setting(BaseSettings):\n",
    "    temp: str\n",
    "    tmp: str\n",
    "    path: str\n",
    "if __name__==\"__main__\":\n",
    "    setting = Setting()\n",
    "    print(setting.temp)\n",
    "    print(setting.tmp)\n",
    "    print(setting.path)"
   ]
  },
  {
   "cell_type": "code",
   "execution_count": 21,
   "metadata": {},
   "outputs": [
    {
     "name": "stdout",
     "output_type": "stream",
     "text": [
      "api_key='my_api_key' db_url='sqlite:///db.sqlite3'\n"
     ]
    }
   ],
   "source": [
    "from pydantic_settings import BaseSettings\n",
    "class Settings(BaseSettings):\n",
    "    api_key: str\n",
    "    db_url: str\n",
    "if __name__==\"__main__\":\n",
    "    settings = Settings(\n",
    "        api_key=\"my_api_key\",\n",
    "        db_url=\"sqlite:///db.sqlite3\",\n",
    "    )\n",
    "    print(settings)"
   ]
  },
  {
   "cell_type": "code",
   "execution_count": 22,
   "metadata": {},
   "outputs": [
    {
     "name": "stdout",
     "output_type": "stream",
     "text": [
      "Wonderland\n"
     ]
    }
   ],
   "source": [
    "class Address(BaseModel):\n",
    "    city: str\n",
    "    state: str\n",
    "class User(BaseModel):\n",
    "    id: int\n",
    "    name: str\n",
    "    address: Address\n",
    "if __name__ == \"__main__\":\n",
    "    address = Address(city=\"Wonderland\", state=\"Fantasy\")\n",
    "    user = User(id=1, name=\"Alice\", address=address)\n",
    "    print(user.address.city)  # Outputs: Wonderland"
   ]
  },
  {
   "cell_type": "code",
   "execution_count": 30,
   "metadata": {},
   "outputs": [
    {
     "name": "stdout",
     "output_type": "stream",
     "text": [
      "name='Michael' age=38\n"
     ]
    }
   ],
   "source": [
    "from pydantic import field_validator, Field\n",
    "class User(BaseModel):\n",
    "    name: str\n",
    "    age: int = Field(...,gt=0)\n",
    "    @field_validator('age')\n",
    "    def validate_age(cls, v):\n",
    "        if v < 0:\n",
    "            raise ValueError('Age must be positive')\n",
    "        return v\n",
    "if __name__==\"__main__\":\n",
    "    user = User(name=\"Michael\", age=38)\n",
    "    print(user)"
   ]
  },
  {
   "cell_type": "code",
   "execution_count": 5,
   "metadata": {},
   "outputs": [
    {
     "name": "stdout",
     "output_type": "stream",
     "text": [
      "The function call started!\n",
      "Hello world!\n"
     ]
    }
   ],
   "source": [
    "def outer(func):\n",
    "    def wraper():\n",
    "        print(\"The function call started!\")\n",
    "        return func()\n",
    "    return wraper\n",
    "# @outer\n",
    "def greet():\n",
    "    print(\"Hello world!\")\n",
    "# greet()\n",
    "new_greet = outer(greet)\n",
    "new_greet()"
   ]
  },
  {
   "cell_type": "code",
   "execution_count": 13,
   "metadata": {},
   "outputs": [
    {
     "data": {
      "text/plain": [
       "'Woof'"
      ]
     },
     "execution_count": 13,
     "metadata": {},
     "output_type": "execute_result"
    }
   ],
   "source": [
    "from abc import abstractmethod\n",
    "\n",
    "\n",
    "class Animal(object):\n",
    "    @abstractmethod\n",
    "    def sound(self):\n",
    "        pass\n",
    "\n",
    "\n",
    "class Cat(Animal):\n",
    "    def __init__(self):\n",
    "        super().__init__()\n",
    "\n",
    "    def sound(self):\n",
    "        return \"Meo\"\n",
    "\n",
    "\n",
    "class Dog(Animal):\n",
    "    def __init__(self):\n",
    "        super().__init__()\n",
    "\n",
    "    def sound(self):\n",
    "        return \"Woof\"\n",
    "\n",
    "\n",
    "cat = Cat()\n",
    "\n",
    "\n",
    "# cat.sound()\n",
    "class Ower(object):\n",
    "    def __init__(self, name: str, pet: Animal):\n",
    "        self.name = name\n",
    "        self.pet = pet\n",
    "\n",
    "    def get_pet_sound(self):\n",
    "        return self.pet.sound()\n",
    "\n",
    "\n",
    "say = Ower(name=\"Say\", pet=Dog())\n",
    "say.get_pet_sound()"
   ]
  },
  {
   "cell_type": "code",
   "execution_count": 1,
   "metadata": {},
   "outputs": [
    {
     "name": "stdout",
     "output_type": "stream",
     "text": [
      "3.14\n"
     ]
    }
   ],
   "source": [
    "name: str = \"say\"\n",
    "name = 3.14\n",
    "print(name)"
   ]
  },
  {
   "cell_type": "code",
   "execution_count": 2,
   "metadata": {},
   "outputs": [
    {
     "name": "stdout",
     "output_type": "stream",
     "text": [
      "Collecting pydantic\n",
      "  Using cached pydantic-2.9.2-py3-none-any.whl.metadata (149 kB)\n",
      "Collecting annotated-types>=0.6.0 (from pydantic)\n",
      "  Using cached annotated_types-0.7.0-py3-none-any.whl.metadata (15 kB)\n",
      "Collecting pydantic-core==2.23.4 (from pydantic)\n",
      "  Using cached pydantic_core-2.23.4-cp312-none-win_amd64.whl.metadata (6.7 kB)\n",
      "Requirement already satisfied: typing-extensions>=4.6.1 in d:\\.deep\\lib\\site-packages (from pydantic) (4.12.2)\n",
      "Using cached pydantic-2.9.2-py3-none-any.whl (434 kB)\n",
      "Using cached pydantic_core-2.23.4-cp312-none-win_amd64.whl (1.9 MB)\n",
      "Using cached annotated_types-0.7.0-py3-none-any.whl (13 kB)\n",
      "Installing collected packages: pydantic-core, annotated-types, pydantic\n",
      "Successfully installed annotated-types-0.7.0 pydantic-2.9.2 pydantic-core-2.23.4\n"
     ]
    }
   ],
   "source": [
    "!pip install pydantic"
   ]
  },
  {
   "cell_type": "code",
   "execution_count": 4,
   "metadata": {},
   "outputs": [
    {
     "ename": "ValidationError",
     "evalue": "1 validation error for User\nname\n  Input should be a valid string [type=string_type, input_value=3.14, input_type=float]\n    For further information visit https://errors.pydantic.dev/2.9/v/string_type",
     "output_type": "error",
     "traceback": [
      "\u001b[1;31m---------------------------------------------------------------------------\u001b[0m",
      "\u001b[1;31mValidationError\u001b[0m                           Traceback (most recent call last)",
      "Cell \u001b[1;32mIn[4], line 5\u001b[0m\n\u001b[0;32m      3\u001b[0m     \u001b[38;5;28mid\u001b[39m: \u001b[38;5;28mint\u001b[39m\n\u001b[0;32m      4\u001b[0m     name: \u001b[38;5;28mstr\u001b[39m\n\u001b[1;32m----> 5\u001b[0m user \u001b[38;5;241m=\u001b[39m \u001b[43mUser\u001b[49m\u001b[43m(\u001b[49m\u001b[38;5;28;43mid\u001b[39;49m\u001b[38;5;241;43m=\u001b[39;49m\u001b[38;5;241;43m12\u001b[39;49m\u001b[43m,\u001b[49m\u001b[43mname\u001b[49m\u001b[38;5;241;43m=\u001b[39;49m\u001b[38;5;241;43m3.14\u001b[39;49m\u001b[43m)\u001b[49m\n\u001b[0;32m      6\u001b[0m \u001b[38;5;28mprint\u001b[39m(user)\n",
      "File \u001b[1;32md:\\.deep\\Lib\\site-packages\\pydantic\\main.py:212\u001b[0m, in \u001b[0;36mBaseModel.__init__\u001b[1;34m(self, **data)\u001b[0m\n\u001b[0;32m    210\u001b[0m \u001b[38;5;66;03m# `__tracebackhide__` tells pytest and some other tools to omit this function from tracebacks\u001b[39;00m\n\u001b[0;32m    211\u001b[0m __tracebackhide__ \u001b[38;5;241m=\u001b[39m \u001b[38;5;28;01mTrue\u001b[39;00m\n\u001b[1;32m--> 212\u001b[0m validated_self \u001b[38;5;241m=\u001b[39m \u001b[38;5;28;43mself\u001b[39;49m\u001b[38;5;241;43m.\u001b[39;49m\u001b[43m__pydantic_validator__\u001b[49m\u001b[38;5;241;43m.\u001b[39;49m\u001b[43mvalidate_python\u001b[49m\u001b[43m(\u001b[49m\u001b[43mdata\u001b[49m\u001b[43m,\u001b[49m\u001b[43m \u001b[49m\u001b[43mself_instance\u001b[49m\u001b[38;5;241;43m=\u001b[39;49m\u001b[38;5;28;43mself\u001b[39;49m\u001b[43m)\u001b[49m\n\u001b[0;32m    213\u001b[0m \u001b[38;5;28;01mif\u001b[39;00m \u001b[38;5;28mself\u001b[39m \u001b[38;5;129;01mis\u001b[39;00m \u001b[38;5;129;01mnot\u001b[39;00m validated_self:\n\u001b[0;32m    214\u001b[0m     warnings\u001b[38;5;241m.\u001b[39mwarn(\n\u001b[0;32m    215\u001b[0m         \u001b[38;5;124m'\u001b[39m\u001b[38;5;124mA custom validator is returning a value other than `self`.\u001b[39m\u001b[38;5;130;01m\\n\u001b[39;00m\u001b[38;5;124m'\u001b[39m\n\u001b[0;32m    216\u001b[0m         \u001b[38;5;124m\"\u001b[39m\u001b[38;5;124mReturning anything other than `self` from a top level model validator isn\u001b[39m\u001b[38;5;124m'\u001b[39m\u001b[38;5;124mt supported when validating via `__init__`.\u001b[39m\u001b[38;5;130;01m\\n\u001b[39;00m\u001b[38;5;124m\"\u001b[39m\n\u001b[0;32m    217\u001b[0m         \u001b[38;5;124m'\u001b[39m\u001b[38;5;124mSee the `model_validator` docs (https://docs.pydantic.dev/latest/concepts/validators/#model-validators) for more details.\u001b[39m\u001b[38;5;124m'\u001b[39m,\n\u001b[0;32m    218\u001b[0m         category\u001b[38;5;241m=\u001b[39m\u001b[38;5;28;01mNone\u001b[39;00m,\n\u001b[0;32m    219\u001b[0m     )\n",
      "\u001b[1;31mValidationError\u001b[0m: 1 validation error for User\nname\n  Input should be a valid string [type=string_type, input_value=3.14, input_type=float]\n    For further information visit https://errors.pydantic.dev/2.9/v/string_type"
     ]
    }
   ],
   "source": [
    "from pydantic import BaseModel\n",
    "class User(BaseModel):\n",
    "    id: int\n",
    "    name: str\n",
    "user = User(id=12,name=3.14)\n",
    "print(user)"
   ]
  },
  {
   "cell_type": "code",
   "execution_count": 6,
   "metadata": {},
   "outputs": [
    {
     "name": "stdout",
     "output_type": "stream",
     "text": [
      "12\n",
      "3.14\n"
     ]
    }
   ],
   "source": [
    "class User(object):\n",
    "    def __init__(self, id: int, name: str):\n",
    "        self.id: int = id\n",
    "        self.name: str = name\n",
    "\n",
    "\n",
    "user = User(id=12, name=3.14)\n",
    "print(user.id)\n",
    "print(user.name)"
   ]
  }
 ],
 "metadata": {
  "kernelspec": {
   "display_name": "Python 3",
   "language": "python",
   "name": "python3"
  },
  "language_info": {
   "codemirror_mode": {
    "name": "ipython",
    "version": 3
   },
   "file_extension": ".py",
   "mimetype": "text/x-python",
   "name": "python",
   "nbconvert_exporter": "python",
   "pygments_lexer": "ipython3",
   "version": "3.12.7"
  }
 },
 "nbformat": 4,
 "nbformat_minor": 2
}
