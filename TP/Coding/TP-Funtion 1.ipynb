{
 "cells": [
  {
   "cell_type": "markdown",
   "metadata": {},
   "source": [
    "\n",
    "### <span style=\"color:teal;\">Name Pean Chhinger</span>\n",
    "### <span style=\"color:teal;\">Id e20201339</span>\n",
    "## TP Funtions"
   ]
  },
  {
   "cell_type": "code",
   "execution_count": 47,
   "metadata": {},
   "outputs": [
    {
     "name": "stdout",
     "output_type": "stream",
     "text": [
      "Hello, Chhinger! Welcome!\n"
     ]
    }
   ],
   "source": [
    "# Probem1 \n",
    "def greet(name):\n",
    "    print(f\"Hello, {name}! Welcome!\")\n",
    "\n",
    "greet(\"Chhinger\")  "
   ]
  },
  {
   "cell_type": "code",
   "execution_count": 48,
   "metadata": {},
   "outputs": [
    {
     "name": "stdout",
     "output_type": "stream",
     "text": [
      "The sum is: 15\n"
     ]
    }
   ],
   "source": [
    "# Probem2\n",
    "def add(num1, num2):\n",
    "    return num1 + num2\n",
    "\n",
    "result = add(10, 5) \n",
    "print(f\"The sum is: {result}\")\n"
   ]
  },
  {
   "cell_type": "code",
   "execution_count": 49,
   "metadata": {},
   "outputs": [
    {
     "name": "stdout",
     "output_type": "stream",
     "text": [
      "5 to the power of 2 is: 25\n",
      "5 to the power of 3 is: 125\n"
     ]
    }
   ],
   "source": [
    "# Problem 3\n",
    "\n",
    "def power(base, exponent=2):\n",
    "    return base ** exponent\n",
    "\n",
    "\n",
    "result1 = power(5)\n",
    "print(f\"5 to the power of 2 is: {result1}\")\n",
    "\n",
    "\n",
    "result2 = power(5, 3)\n",
    "print(f\"5 to the power of 3 is: {result2}\")\n"
   ]
  },
  {
   "cell_type": "code",
   "execution_count": 50,
   "metadata": {},
   "outputs": [
    {
     "name": "stdout",
     "output_type": "stream",
     "text": [
      "5 to the power of 2 (using default exponent) is: 25\n",
      "5 to the power of 3 is: 125\n"
     ]
    }
   ],
   "source": [
    "# problem4\n",
    "\n",
    "def power(base, exponent=2):\n",
    "    return base ** exponent\n",
    "\n",
    "\n",
    "result1 = power(base=5)\n",
    "print(f\"5 to the power of 2 (using default exponent) is: {result1}\")\n",
    "\n",
    "result2 = power(base=5, exponent=3)\n",
    "print(f\"5 to the power of 3 is: {result2}\")\n"
   ]
  },
  {
   "cell_type": "code",
   "execution_count": 51,
   "metadata": {},
   "outputs": [
    {
     "name": "stdout",
     "output_type": "stream",
     "text": [
      "The average of 10, 20, 30 is: 20.0\n",
      "The average of 5, 15 is: 10.0\n",
      "The average of 7, 14, 21, 28, 35 is: 21.0\n",
      "The average with no arguments is: 0\n",
      "The average of 10, 20, 30 is: 20.0\n",
      "The average of 5, 15 is: 10.0\n",
      "The average of 7, 14, 21, 28, 35 is: 21.0\n",
      "The average with no arguments is: 0\n"
     ]
    }
   ],
   "source": [
    "# Problem5\n",
    "def calculate_average(*args):\n",
    "    if len(args) == 0:\n",
    "        return 0  \n",
    "    \n",
    "    return sum(args) / len(args)\n",
    "\n",
    "\n",
    "\n",
    "avg1 = calculate_average(10, 20, 30)\n",
    "print(f\"The average of 10, 20, 30 is: {avg1}\")\n",
    "\n",
    "avg2 = calculate_average(5, 15)\n",
    "print(f\"The average of 5, 15 is: {avg2}\")\n",
    "\n",
    "avg3 = calculate_average(7, 14, 21, 28, 35)\n",
    "print(f\"The average of 7, 14, 21, 28, 35 is: {avg3}\")\n",
    "\n",
    "avg4 = calculate_average()  \n",
    "print(f\"The average with no arguments is: {avg4}\")\n",
    "\n",
    "# calculate_average.py\n",
    "\n",
    "def calculate_average(*args):\n",
    "    if len(args) == 0:\n",
    "        return 0  # Avoid division by zero if no arguments are provided\n",
    "    return sum(args) / len(args)\n",
    "\n",
    "# Test with different numbers of arguments\n",
    "avg1 = calculate_average(10, 20, 30)\n",
    "print(f\"The average of 10, 20, 30 is: {avg1}\")\n",
    "\n",
    "avg2 = calculate_average(5, 15)\n",
    "print(f\"The average of 5, 15 is: {avg2}\")\n",
    "\n",
    "avg3 = calculate_average(7, 14, 21, 28, 35)\n",
    "print(f\"The average of 7, 14, 21, 28, 35 is: {avg3}\")\n",
    "\n",
    "avg4 = calculate_average()  \n",
    "print(f\"The average with no arguments is: {avg4}\")\n",
    "\n"
   ]
  },
  {
   "cell_type": "code",
   "execution_count": 52,
   "metadata": {},
   "outputs": [
    {
     "name": "stdout",
     "output_type": "stream",
     "text": [
      "The square of 7 is: 49\n"
     ]
    }
   ],
   "source": [
    "square = lambda x: x ** 2\n",
    "\n",
    "result = square(7)  \n",
    "print(f\"The square of 7 is: {result}\")\n"
   ]
  },
  {
   "cell_type": "code",
   "execution_count": 53,
   "metadata": {},
   "outputs": [],
   "source": [
    "# Problem 7\n"
   ]
  },
  {
   "cell_type": "code",
   "execution_count": 54,
   "metadata": {},
   "outputs": [
    {
     "name": "stdout",
     "output_type": "stream",
     "text": [
      "[0.0, 0.3333333333333333, 0.6666666666666666, 1.0]\n"
     ]
    }
   ],
   "source": [
    "# problem7 \n",
    "from typing import List\n",
    "\n",
    "def normalize(data: List[float]) -> List[float]:\n",
    "    \n",
    "    \n",
    "    if not data:\n",
    "        return []\n",
    "    \n",
    "    \n",
    "    min_value = min(data)\n",
    "    max_value = max(data)\n",
    "    \n",
    "    # Apply Min-Max scaling formula\n",
    "    normalized_data = [(x - min_value) / (max_value - min_value) for x in data]\n",
    "    \n",
    "    return normalized_data\n",
    "\n",
    "# Sample Data\n",
    "data = [2.0, 4.0, 6.0, 8.0]\n",
    "normalized_output = normalize(data)\n",
    "print(normalized_output)\n"
   ]
  },
  {
   "cell_type": "code",
   "execution_count": 55,
   "metadata": {},
   "outputs": [
    {
     "name": "stdout",
     "output_type": "stream",
     "text": [
      "The product of 3.5 and 2.0 is: 7.0\n"
     ]
    }
   ],
   "source": [
    "# problem 8\n",
    "\n",
    "\n",
    "def multiply(x: float, y: float) -> float:\n",
    "    return x * y\n",
    "\n",
    "\n",
    "result = multiply(3.5, 2.0) \n",
    "print(f\"The product of 3.5 and 2.0 is: {result}\")\n"
   ]
  },
  {
   "cell_type": "code",
   "execution_count": 56,
   "metadata": {},
   "outputs": [
    {
     "name": "stdout",
     "output_type": "stream",
     "text": [
      "HELLO, WORLD!\n"
     ]
    }
   ],
   "source": [
    "# problem 9\n",
    "\n",
    "\n",
    "def uppercase_decorator(func):\n",
    "    def wrapper():\n",
    "        result = func()\n",
    "        return result.upper()\n",
    "    return wrapper\n",
    "\n",
    "@uppercase_decorator\n",
    "def greet():\n",
    "    return \"Hello, world!\"\n",
    "\n",
    "result = greet()\n",
    "print(result)\n"
   ]
  },
  {
   "cell_type": "code",
   "execution_count": 57,
   "metadata": {},
   "outputs": [
    {
     "name": "stdout",
     "output_type": "stream",
     "text": [
      "The factorial of 5 is: 120\n"
     ]
    }
   ],
   "source": [
    "# problem 10\n",
    "\n",
    "\n",
    "def factorial(n: int) -> int:\n",
    "    if n == 0 or n == 1:  \n",
    "        return 1\n",
    "    else:\n",
    "        return n * factorial(n - 1) \n",
    "\n",
    "\n",
    "result = factorial(5)  \n",
    "print(f\"The factorial of 5 is: {result}\")\n"
   ]
  }
 ],
 "metadata": {
  "kernelspec": {
   "display_name": "base",
   "language": "python",
   "name": "python3"
  },
  "language_info": {
   "codemirror_mode": {
    "name": "ipython",
    "version": 3
   },
   "file_extension": ".py",
   "mimetype": "text/x-python",
   "name": "python",
   "nbconvert_exporter": "python",
   "pygments_lexer": "ipython3",
   "version": "3.9.13"
  }
 },
 "nbformat": 4,
 "nbformat_minor": 2
}
