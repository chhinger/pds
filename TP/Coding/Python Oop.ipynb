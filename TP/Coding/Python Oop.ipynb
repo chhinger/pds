{
 "cells": [
  {
   "cell_type": "markdown",
   "metadata": {},
   "source": [
    "\n",
    "### <span style=\"color:teal;\">Name Pean Chhinger</span>\n",
    "### <span style=\"color:teal;\">Id e20201339</span>\n",
    "## TP: Python Object-Oriented Programming: Problem Set\n",
    "\n",
    "This problem set is designed to help you practice writing and using Object-Oriented Programming concepts in\n",
    "Python. Follow the instructions for each problem and document your progress.\n",
    "\n",
    "### Problem 1: Class Definition\n",
    "a. Define a class called Car with attributes: make, model, and year.\n",
    "\n",
    "b. Include a method get_description that returns the car’s details in the format: \"Year Make Model\".\n",
    "\n"
   ]
  },
  {
   "cell_type": "code",
   "execution_count": 86,
   "metadata": {},
   "outputs": [],
   "source": [
    "class Car:\n",
    "    def __init__(self, make, model, year):\n",
    "        # Initialize the attributes\n",
    "        self.make = make\n",
    "        self.model = model\n",
    "        self.year = year\n",
    "        \n",
    "    # Method to return the car's description\n",
    "    def get_description(self):\n",
    "        return f\"{self.year} {self.make} {self.model}\"\n"
   ]
  },
  {
   "cell_type": "markdown",
   "metadata": {},
   "source": [
    "### Problem 2: Creating Objects\n",
    "\n",
    "a.  Create an object of the Car class called my_car with the following values:\n",
    "\n",
    "* Make: \"Toyota\"\n",
    "* Model: \"Corolla\"\n",
    "* Year: 2020\n",
    "\n",
    "b. Print the description of my_car using the get_description method"
   ]
  },
  {
   "cell_type": "code",
   "execution_count": 87,
   "metadata": {},
   "outputs": [
    {
     "name": "stdout",
     "output_type": "stream",
     "text": [
      "2020 Toyota Corolla\n"
     ]
    }
   ],
   "source": [
    "# problem 2\n",
    "# a).\n",
    "# Creating an object of the Car class\n",
    "my_car = Car(\"Toyota\", \"Corolla\", 2020)\n",
    "\n",
    "# b).\n",
    "print(my_car.get_description()) \n"
   ]
  },
  {
   "cell_type": "markdown",
   "metadata": {},
   "source": [
    "### Problem 3: Encapsulation\n",
    "\n",
    "a. Modify the Car class to include private attributes for make, model, and year.\n",
    "\n",
    "b. Create getter and setter methods for each attribute to allow controlled access to these private variables"
   ]
  },
  {
   "cell_type": "code",
   "execution_count": 88,
   "metadata": {},
   "outputs": [
    {
     "name": "stdout",
     "output_type": "stream",
     "text": [
      "2020 Toyota Corolla\n",
      "2022 Honda Civic\n"
     ]
    }
   ],
   "source": [
    "# problem 3\n",
    "\n",
    "class Car:\n",
    "    def __init__(self, make, model, year):\n",
    "        \"\"\"Initialize the car with private make, model, and year attributes.\"\"\"\n",
    "        self.__make = make  # Private attribute\n",
    "        self.__model = model  # Private attribute\n",
    "        self.__year = year  # Private attribute\n",
    "\n",
    "    # Getter methods\n",
    "    def get_make(self):\n",
    "        \"\"\"Return the car's make.\"\"\"\n",
    "        return self.__make\n",
    "\n",
    "    def get_model(self):\n",
    "        \"\"\"Return the car's model.\"\"\"\n",
    "        return self.__model\n",
    "\n",
    "    def get_year(self):\n",
    "        \"\"\"Return the car's year.\"\"\"\n",
    "        return self.__year\n",
    "\n",
    "    # Setter methods\n",
    "    def set_make(self, make):\n",
    "        \"\"\"Set a new value for the car's make.\"\"\"\n",
    "        self.__make = make\n",
    "\n",
    "    def set_model(self, model):\n",
    "        \"\"\"Set a new value for the car's model.\"\"\"\n",
    "        self.__model = model\n",
    "\n",
    "    def set_year(self, year):\n",
    "        \"\"\"Set a new value for the car's year.\"\"\"\n",
    "        if year > 1885:  \n",
    "            self.__year = year\n",
    "        else:\n",
    "            print(\"Invalid year! Cars weren't invented before 1886.\")\n",
    "\n",
    "    def get_description(self):\n",
    "        \"\"\"Return a string describing the car in the format: 'Year Make Model'.\"\"\"\n",
    "        return f\"{self.__year} {self.__make} {self.__model}\"\n",
    "\n",
    "\n",
    "my_car = Car(\"Toyota\", \"Corolla\", 2020)\n",
    "\n",
    "\n",
    "print(my_car.get_description())  \n",
    "\n",
    "my_car.set_make(\"Honda\")\n",
    "my_car.set_model(\"Civic\")\n",
    "my_car.set_year(2022)\n",
    "\n",
    "print(my_car.get_description())  \n"
   ]
  },
  {
   "cell_type": "markdown",
   "metadata": {},
   "source": [
    "## Problem 4: Inheritance\n",
    "\n",
    "a. Define a new class called ElectricCar that inherits from the Car class.\n",
    "\n",
    "b. Add a new attribute battery_size and a method get_battery_size that returns the battery size."
   ]
  },
  {
   "cell_type": "code",
   "execution_count": 89,
   "metadata": {},
   "outputs": [
    {
     "name": "stdout",
     "output_type": "stream",
     "text": [
      "2022 Tesla Model S\n",
      "Battery size: 100 kWh\n"
     ]
    }
   ],
   "source": [
    "# problem 4\n",
    "\n",
    "class ElectricCar(Car):\n",
    "    def __init__(self, make, model, year, battery_size):\n",
    "        \"\"\"Initialize attributes of the parent class Car, and add a new attribute for battery size.\"\"\"\n",
    "        super().__init__(make, model, year)  # Inherit attributes from the Car class\n",
    "        self.__battery_size = battery_size  # New attribute for electric cars\n",
    "\n",
    "    def get_battery_size(self):\n",
    "        \"\"\"Return the battery size of the electric car.\"\"\"\n",
    "        return self.__battery_size\n",
    "\n",
    "\n",
    "my_electric_car = ElectricCar(\"Tesla\", \"Model S\", 2022, 100)\n",
    "\n",
    "# Accessing inherited method\n",
    "print(my_electric_car.get_description()) \n",
    "\n",
    "# Accessing the new method to get battery size\n",
    "print(f\"Battery size: {my_electric_car.get_battery_size()} kWh\")  "
   ]
  },
  {
   "cell_type": "markdown",
   "metadata": {},
   "source": [
    "## Problem 5: Method Overriding\n",
    "\n",
    "a. Override the get_description method in the ElectricCar class to include the battery size in the description."
   ]
  },
  {
   "cell_type": "code",
   "execution_count": 90,
   "metadata": {},
   "outputs": [
    {
     "name": "stdout",
     "output_type": "stream",
     "text": [
      "2022 Tesla Model S, Battery size: 100 kWh\n"
     ]
    }
   ],
   "source": [
    "# problem 5\n",
    "\n",
    "\n",
    "class ElectricCar(Car):\n",
    "    def __init__(self, make, model, year, battery_size):\n",
    "        \"\"\"Initialize attributes of the parent class Car, and add a new attribute for battery size.\"\"\"\n",
    "        super().__init__(make, model, year)  # Inherit attributes from the Car class\n",
    "        self.__battery_size = battery_size  # New attribute for electric cars\n",
    "\n",
    "    def get_battery_size(self):\n",
    "        \"\"\"Return the battery size of the electric car.\"\"\"\n",
    "        return self.__battery_size\n",
    "\n",
    "    # Method Overriding\n",
    "    def get_description(self):\n",
    "        \"\"\"Override the Car's get_description to include the battery size.\"\"\"\n",
    "        description = super().get_description()  # Get description from the parent class\n",
    "        return f\"{description}, Battery size: {self.__battery_size} kWh\"\n",
    "\n",
    "\n",
    "my_electric_car = ElectricCar(\"Tesla\", \"Model S\", 2022, 100)\n",
    "\n",
    "# Using the overridden get_description method\n",
    "print(my_electric_car.get_description())  \n"
   ]
  },
  {
   "cell_type": "markdown",
   "metadata": {},
   "source": [
    "## Problem 6: Polymorphism\n",
    "\n",
    "a. Create a function print_car_description that takes a Car object as an argument and prints its description.\n",
    "\n",
    "b. Call this function with both a Car object and an ElectricCar object."
   ]
  },
  {
   "cell_type": "code",
   "execution_count": 91,
   "metadata": {},
   "outputs": [
    {
     "name": "stdout",
     "output_type": "stream",
     "text": [
      "2020 Toyota Corolla\n",
      "2022 Tesla Model S, Battery size: 100 kWh\n"
     ]
    }
   ],
   "source": [
    "# problem6 \n",
    "\n",
    "def print_car_description(car):\n",
    "    \"\"\"Print the description of the car object passed as an argument.\"\"\"\n",
    "    print(car.get_description())\n",
    "\n",
    "# Creating Car and ElectricCar objects\n",
    "my_car = Car(\"Toyota\", \"Corolla\", 2020)\n",
    "my_electric_car = ElectricCar(\"Tesla\", \"Model S\", 2022, 100)\n",
    "\n",
    "# b. Calling the function with both a Car and an ElectricCar object\n",
    "print_car_description(my_car)          # Output: \"2020 Toyota Corolla\"\n",
    "print_car_description(my_electric_car) # Output: \"2022 Tesla Model S, Battery size: 100 kWh\"\n"
   ]
  },
  {
   "cell_type": "code",
   "execution_count": 92,
   "metadata": {},
   "outputs": [],
   "source": [
    "#from pydantic import BaseException\n",
    "# to learn: data validation "
   ]
  },
  {
   "cell_type": "markdown",
   "metadata": {},
   "source": [
    "## Problem 7: Abstract Classes\n",
    "\n",
    "a. Create an abstract class Animal with an abstract method sound.\n",
    "\n",
    "b. Define two derived classes, Dog and Cat, that implement the sound method."
   ]
  },
  {
   "cell_type": "code",
   "execution_count": 93,
   "metadata": {},
   "outputs": [
    {
     "name": "stdout",
     "output_type": "stream",
     "text": [
      "Woof!\n",
      "Meow!\n"
     ]
    }
   ],
   "source": [
    "# To do Problem 7\n",
    "\n",
    "from abc import ABC, abstractmethod\n",
    "\n",
    "# a. Define the abstract class Animal with an abstract method sound\n",
    "class Animal(ABC):\n",
    "    @abstractmethod\n",
    "    def sound(self):\n",
    "        \"\"\"Abstract method for making a sound.\"\"\"\n",
    "        pass\n",
    "\n",
    "# b. Define the Dog class that inherits from Animal and implements the sound method\n",
    "class Dog(Animal):\n",
    "    def sound(self):\n",
    "        return \"Woof!\"\n",
    "\n",
    "# b. Define the Cat class that inherits from Animal and implements the sound method\n",
    "class Cat(Animal):\n",
    "    def sound(self):\n",
    "        return \"Meow!\"\n",
    "\n",
    "#creating instances and calling their sound method\n",
    "my_dog = Dog()\n",
    "my_cat = Cat()\n",
    "\n",
    "print(my_dog.sound())  \n",
    "print(my_cat.sound()) \n",
    "\n"
   ]
  },
  {
   "cell_type": "markdown",
   "metadata": {},
   "source": [
    "## Problem 8: Composition\n",
    "\n",
    "a. Create a class Owner that has attributes name and pet (an instance of Dog or Cat).\n",
    "\n",
    "b. Include a method get_pet_sound that returns the sound of the pet."
   ]
  },
  {
   "cell_type": "code",
   "execution_count": 94,
   "metadata": {},
   "outputs": [
    {
     "name": "stdout",
     "output_type": "stream",
     "text": [
      "Alice's pet says: Woof!\n",
      "Bob's pet says: Meow!\n"
     ]
    }
   ],
   "source": [
    "# Problem 8 \n",
    "# Assuming the Animal, Dog, and Cat classes from Problem 7 are already defined\n",
    "\n",
    "class Owner:\n",
    "    def __init__(self, name, pet):\n",
    "        \"\"\"Initialize the owner with a name and a pet (an instance of Dog or Cat).\"\"\"\n",
    "        self.name = name\n",
    "        self.pet = pet  # The pet should be an instance of Dog or Cat\n",
    "\n",
    "    def get_pet_sound(self):\n",
    "        \"\"\"Return the sound made by the owner's pet.\"\"\"\n",
    "        return self.pet.sound()\n",
    "\n",
    "# Example of creating Owner objects with Dog and Cat pets\n",
    "my_dog = Dog()\n",
    "my_cat = Cat()\n",
    "\n",
    "owner1 = Owner(\"Alice\", my_dog)\n",
    "owner2 = Owner(\"Bob\", my_cat)\n",
    "\n",
    "# Using the get_pet_sound method to print the sounds of the pets\n",
    "print(f\"{owner1.name}'s pet says: {owner1.get_pet_sound()}\")  # Output: \"Alice's pet says: Woof!\"\n",
    "print(f\"{owner2.name}'s pet says: {owner2.get_pet_sound()}\")  # Output: \"Bob's pet says: Meow!\"\n",
    "\n"
   ]
  },
  {
   "cell_type": "markdown",
   "metadata": {},
   "source": [
    "## Problem 9: Operator Overloading\n",
    "\n",
    "a. Create a class Point representing a point in 2D space.\n",
    "\n",
    "b. Overload the + operator to allow adding two Point objects together"
   ]
  },
  {
   "cell_type": "code",
   "execution_count": 95,
   "metadata": {},
   "outputs": [
    {
     "name": "stdout",
     "output_type": "stream",
     "text": [
      "Point(4, 6)\n"
     ]
    }
   ],
   "source": [
    "# problem 9\n",
    "class Point:\n",
    "    def __init__(self, x, y):\n",
    "        \"\"\"Initialize a point in 2D space with coordinates x and y.\"\"\"\n",
    "        self.x = x\n",
    "        self.y = y\n",
    "\n",
    "    def __add__(self, other):\n",
    "        \"\"\"Overload the + operator to add two Point objects.\"\"\"\n",
    "        if isinstance(other, Point):\n",
    "            return Point(self.x + other.x, self.y + other.y)\n",
    "        return NotImplemented\n",
    "\n",
    "    def __repr__(self):\n",
    "        \"\"\"Return a string representation of the Point object.\"\"\"\n",
    "        return f\"Point({self.x}, {self.y})\"\n",
    "\n",
    "# Example of creating Point objects and adding them\n",
    "point1 = Point(3, 4)\n",
    "point2 = Point(1, 2)\n",
    "\n",
    "# Adding two Point objects using the overloaded + operator\n",
    "result = point1 + point2\n",
    "\n",
    "\n",
    "print(result) \n"
   ]
  },
  {
   "cell_type": "markdown",
   "metadata": {},
   "source": [
    "### Problem 10: Design Patterns - Singleton\n",
    "\n",
    "a. Implement a Singleton pattern for a Logger class that logs messages to the console, ensuring only one instance exists.\n"
   ]
  },
  {
   "cell_type": "code",
   "execution_count": 96,
   "metadata": {},
   "outputs": [
    {
     "name": "stdout",
     "output_type": "stream",
     "text": [
      "Log: This is the first log message.\n",
      "Log: This is the second log message.\n",
      "True\n"
     ]
    }
   ],
   "source": [
    "# problem 10 \n",
    "class Logger:\n",
    "    _instance = None  # Class attribute to hold the single instance\n",
    "\n",
    "    def __new__(cls):\n",
    "        \"\"\"Override __new__ to control instance creation.\"\"\"\n",
    "        if cls._instance is None:\n",
    "            cls._instance = super().__new__(cls)\n",
    "        return cls._instance\n",
    "\n",
    "    def log(self, message):\n",
    "        \"\"\"Log a message to the console.\"\"\"\n",
    "        print(f\"Log: {message}\")\n",
    "\n",
    "# Testing the Singleton behavior\n",
    "logger1 = Logger()\n",
    "logger2 = Logger()\n",
    "\n",
    "# Log messages with both instances\n",
    "logger1.log(\"This is the first log message.\")\n",
    "logger2.log(\"This is the second log message.\")\n",
    "\n",
    "# Checking if both variables point to the same instance\n",
    "print(logger1 is logger2)  \n"
   ]
  }
 ],
 "metadata": {
  "kernelspec": {
   "display_name": "base",
   "language": "python",
   "name": "python3"
  },
  "language_info": {
   "codemirror_mode": {
    "name": "ipython",
    "version": 3
   },
   "file_extension": ".py",
   "mimetype": "text/x-python",
   "name": "python",
   "nbconvert_exporter": "python",
   "pygments_lexer": "ipython3",
   "version": "3.9.13"
  }
 },
 "nbformat": 4,
 "nbformat_minor": 2
}
