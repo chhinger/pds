{
 "cells": [
  {
   "cell_type": "markdown",
   "metadata": {},
   "source": []
  },
  {
   "cell_type": "code",
   "execution_count": null,
   "metadata": {},
   "outputs": [],
   "source": [
    "\n",
    "import numpy as np\n",
    " \n",
    "class Neuron:\n",
    "\tdef __init__(self, weights):\n",
    "\t\tself.weights = np.array(weights)\n",
    " \n",
    "\tdef forward(self, inputs):\n",
    "\t    z = np.dot(self.weights, inputs)\n",
    "\t    return self.sigmoid(z)\n",
    " \n",
    "    def sigmoid(self, x):\n",
    "\t\treturn 1 / (1 + np.exp(-x))\n",
    " \n",
    "# Example usage\n",
    "neuron = Neuron([0.5, -0.6])\n",
    "output = neuron.forward([1.0, 2.0])\n",
    "print(\"Neuron output:\", output)"
   ]
  }
 ],
 "metadata": {
  "kernelspec": {
   "display_name": "base",
   "language": "python",
   "name": "python3"
  },
  "language_info": {
   "name": "python",
   "version": "3.9.13"
  }
 },
 "nbformat": 4,
 "nbformat_minor": 2
}
