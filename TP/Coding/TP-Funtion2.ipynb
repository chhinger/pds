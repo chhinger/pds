{
 "cells": [
  {
   "cell_type": "markdown",
   "metadata": {},
   "source": [
    "\n",
    "### <span style=\"color:teal;\">Name Pean Chhinger</span>\n",
    "### <span style=\"color:teal;\">Id e20201339</span>\n",
    "## TP Funtions: Problem set "
   ]
  },
  {
   "cell_type": "code",
   "execution_count": 63,
   "metadata": {},
   "outputs": [
    {
     "name": "stdout",
     "output_type": "stream",
     "text": [
      "[0.0, 0.3333333333333333, 0.6666666666666666, 1.0]\n"
     ]
    }
   ],
   "source": [
    "# problem1\n",
    "from typing import List, Tuple, Any , Dict\n",
    "import random\n",
    "from collections import Counter\n",
    "import math\n",
    "import numpy as np\n",
    "\n",
    "def normalize(data: List[float]) -> List[float]:\n",
    "    \n",
    "    \n",
    "    if not data:\n",
    "        return []\n",
    "    \n",
    "    \n",
    "    min_value = min(data)\n",
    "    max_value = max(data)\n",
    "    \n",
    "    \n",
    "    normalized_data = [(x - min_value) / (max_value - min_value) for x in data]\n",
    "    \n",
    "    return normalized_data\n",
    "\n",
    "\n",
    "data = [2.0, 4.0, 6.0, 8.0]\n",
    "normalized_output = normalize(data)\n",
    "print(normalized_output)\n"
   ]
  },
  {
   "cell_type": "code",
   "execution_count": 64,
   "metadata": {},
   "outputs": [
    {
     "name": "stdout",
     "output_type": "stream",
     "text": [
      "Training Set: ['e', 'c', 'd', 'a']\n",
      "Test Set: ['b']\n"
     ]
    }
   ],
   "source": [
    "# problem2\n",
    "\n",
    "\n",
    "def train_test_split(data: List[Any], test_size: float = 0.2) -> Tuple[List[Any], List[Any]]:\n",
    "    \n",
    "    random.shuffle(data)\n",
    "    \n",
    "\n",
    "    test_size = int(len(data) * test_size)\n",
    "    \n",
    "    \n",
    "    test_set = data[:test_size]\n",
    "    train_set = data[test_size:]\n",
    "    \n",
    "    return train_set, test_set\n",
    "\n",
    "\n",
    "data = ['a', 'b', 'c', 'd', 'e']\n",
    "train_set, test_set = train_test_split(data, test_size=0.2)\n",
    "print(\"Training Set:\", train_set)\n",
    "print(\"Test Set:\", test_set)\n"
   ]
  },
  {
   "cell_type": "code",
   "execution_count": 65,
   "metadata": {},
   "outputs": [
    {
     "name": "stdout",
     "output_type": "stream",
     "text": [
      "Predicted Class Label: A\n"
     ]
    }
   ],
   "source": [
    "#Problem3 \n",
    "def euclidean_distance(point1: List[float], point2: List[float]) -> float:\n",
    "    \"\"\"Calculate the Euclidean distance between two points.\"\"\"\n",
    "    return math.sqrt(sum((a - b) ** 2 for a, b in zip(point1, point2)))\n",
    "\n",
    "def k_nearest_neighbors(data: List[Tuple[List[float], str]], new_point: List[float], k: int) -> str:\n",
    "    \n",
    "    distances = [(euclidean_distance(features, new_point), label) for features, label in data]\n",
    "    \n",
    "    \n",
    "    distances.sort(key=lambda x: x[0])\n",
    "    k_nearest = distances[:k]\n",
    "    \n",
    "    \n",
    "    k_nearest_labels = [label for _, label in k_nearest]\n",
    "    \n",
    "    \n",
    "    most_common_label = Counter(k_nearest_labels).most_common(1)[0][0]\n",
    "    \n",
    "    return most_common_label\n",
    "\n",
    "\n",
    "data = [([1.0, 2.0], 'A'), ([3.0, 4.0], 'B'), ([5.0, 6.0], 'A')]\n",
    "new_point = [2.0, 3.0]\n",
    "k = 2\n",
    "\n",
    "predicted_label = k_nearest_neighbors(data, new_point, k)\n",
    "print(\"Predicted Class Label:\", predicted_label)\n"
   ]
  },
  {
   "cell_type": "code",
   "execution_count": 66,
   "metadata": {},
   "outputs": [
    {
     "name": "stdout",
     "output_type": "stream",
     "text": [
      "Mean Squared Error: 0.375\n"
     ]
    }
   ],
   "source": [
    "# Problem4 \n",
    "\n",
    "def mean_squared_error(y_true: List[float], y_pred: List[float]) -> float:\n",
    "    \n",
    "    if len(y_true) != len(y_pred):\n",
    "        raise ValueError(\"The length of y_true and y_pred must be the same.\")\n",
    "    \n",
    "    squared_differences = [(true - pred) ** 2 for true, pred in zip(y_true, y_pred)]\n",
    "    \n",
    "    \n",
    "    mse = sum(squared_differences) / len(squared_differences)\n",
    "    \n",
    "    return mse\n",
    "\n",
    "\n",
    "y_true = [3.0, -0.5, 2.0, 7.0]\n",
    "y_pred = [2.5, 0.0, 2.0, 8.0]\n",
    "\n",
    "mse_output = mean_squared_error(y_true, y_pred)\n",
    "print(\"Mean Squared Error:\", mse_output)\n"
   ]
  },
  {
   "cell_type": "code",
   "execution_count": 67,
   "metadata": {},
   "outputs": [
    {
     "name": "stdout",
     "output_type": "stream",
     "text": [
      "One-Hot Encoded Output:\n",
      "[0, 1, 0]\n",
      "[0, 0, 1]\n",
      "[1, 0, 0]\n",
      "[0, 0, 1]\n"
     ]
    }
   ],
   "source": [
    "# problem 5\n",
    "\n",
    "\n",
    "def one_hot_encode(categories: List[str]) -> List[List[int]]:\n",
    "    \n",
    "    unique_categories = list(set(categories))\n",
    "    \n",
    "    \n",
    "    category_to_index = {category: index for index, category in enumerate(unique_categories)}\n",
    "    \n",
    "    \n",
    "    one_hot_encoded = [[0] * len(unique_categories) for _ in categories]\n",
    "    \n",
    "    \n",
    "    for i, category in enumerate(categories):\n",
    "        index = category_to_index[category]\n",
    "        one_hot_encoded[i][index] = 1\n",
    "        \n",
    "    return one_hot_encoded\n",
    "\n",
    "\n",
    "categories = ['red', 'blue', 'green', 'blue']\n",
    "encoded_output = one_hot_encode(categories)\n",
    "print(\"One-Hot Encoded Output:\")\n",
    "for row in encoded_output:\n",
    "    print(row)\n"
   ]
  },
  {
   "cell_type": "code",
   "execution_count": 68,
   "metadata": {},
   "outputs": [
    {
     "name": "stdout",
     "output_type": "stream",
     "text": [
      "Sigmoid Output: 0.6224593312018546\n"
     ]
    }
   ],
   "source": [
    "# problem 6\n",
    "\n",
    "def sigmoid(z: float) -> float:\n",
    "    \"\"\"Calculate the sigmoid of a given float.\"\"\"\n",
    "    return 1 / (1 + math.exp(-z))\n",
    "\n",
    "\n",
    "sample_data = 0.5\n",
    "sigmoid_output = sigmoid(sample_data)\n",
    "print(\"Sigmoid Output:\", sigmoid_output)\n"
   ]
  },
  {
   "cell_type": "code",
   "execution_count": 69,
   "metadata": {},
   "outputs": [
    {
     "name": "stdout",
     "output_type": "stream",
     "text": [
      "Confusion Matrix: {'TP': 2, 'TN': 1, 'FP': 1, 'FN': 1}\n"
     ]
    }
   ],
   "source": [
    "#problem7\n",
    "\n",
    "def confusion_matrix(y_true: List[int], y_pred: List[int]) -> Dict[str, int]:\n",
    "    \"\"\"Create a confusion matrix as a dictionary.\"\"\"\n",
    "    \n",
    "    TP = TN = FP = FN = 0\n",
    "    \n",
    "    for true, pred in zip(y_true, y_pred):\n",
    "        if true == 1 and pred == 1:\n",
    "            TP += 1  \n",
    "        elif true == 1 and pred == 0:\n",
    "            FN += 1  \n",
    "        elif true == 0 and pred == 1:\n",
    "            FP += 1 \n",
    "        elif true == 0 and pred == 0:\n",
    "            TN += 1  \n",
    "\n",
    "    \n",
    "    return {\n",
    "        'TP': TP,\n",
    "        'TN': TN,\n",
    "        'FP': FP,\n",
    "        'FN': FN\n",
    "    }\n",
    "\n",
    "\n",
    "y_true = [1, 0, 1, 1, 0]\n",
    "y_pred = [1, 0, 0, 1, 1]\n",
    "\n",
    "confusion_mat = confusion_matrix(y_true, y_pred)\n",
    "print(\"Confusion Matrix:\", confusion_mat)\n"
   ]
  },
  {
   "cell_type": "code",
   "execution_count": 70,
   "metadata": {},
   "outputs": [
    {
     "name": "stdout",
     "output_type": "stream",
     "text": [
      "Slope: 1.7\n",
      "Intercept: 0.0\n"
     ]
    }
   ],
   "source": [
    "# problem 8\n",
    "\n",
    "def linear_regression(x: List[float], y: List[float]) -> Tuple[float, float]:\n",
    "    \"\"\"Perform simple linear regression and return the slope and intercept.\"\"\"\n",
    "    if len(x) != len(y):\n",
    "        raise ValueError(\"The length of x and y must be the same.\")\n",
    "    \n",
    "    N = len(x)\n",
    "    sum_x = sum(x)\n",
    "    sum_y = sum(y)\n",
    "    sum_xy = sum(xi * yi for xi, yi in zip(x, y))\n",
    "    sum_x2 = sum(xi ** 2 for xi in x)\n",
    "    \n",
    "    \n",
    "    m = (N * sum_xy - sum_x * sum_y) / (N * sum_x2 - sum_x ** 2)\n",
    "    b = (sum_y - m * sum_x) / N\n",
    "    \n",
    "    return m, b\n",
    "\n",
    "# Sample Data\n",
    "x = [1, 2, 3, 4]\n",
    "y = [2, 3, 5, 7]\n",
    "\n",
    "slope, intercept = linear_regression(x, y)\n",
    "print(\"Slope:\", slope)\n",
    "print(\"Intercept:\", intercept)\n"
   ]
  },
  {
   "cell_type": "code",
   "execution_count": 71,
   "metadata": {},
   "outputs": [
    {
     "name": "stdout",
     "output_type": "stream",
     "text": [
      "Variance: 26.77551020408163\n"
     ]
    }
   ],
   "source": [
    "# problem9\n",
    "\n",
    "\n",
    "def variance(data: List[float]) -> float:\n",
    "    \"\"\"Calculate the variance of a list of numbers.\"\"\"\n",
    "    if len(data) == 0:\n",
    "        raise ValueError(\"The data list must not be empty.\")\n",
    "    \n",
    "    \n",
    "    mean = sum(data) / len(data)\n",
    "    \n",
    "    \n",
    "    var = sum((x - mean) ** 2 for x in data) / len(data)  # Population variance\n",
    "    # var = sum((x - mean) ** 2 for x in data) / (len(data) - 1)  # Sample variance (uncomment if needed)\n",
    "    \n",
    "    return var\n",
    "\n",
    "\n",
    "data = [10.0, 12.0, 23.0, 23.0, 16.0, 23.0, 21.0]\n",
    "\n",
    "variance_output = variance(data)\n",
    "print(\"Variance:\", variance_output)\n"
   ]
  },
  {
   "cell_type": "code",
   "execution_count": 72,
   "metadata": {},
   "outputs": [
    {
     "name": "stdout",
     "output_type": "stream",
     "text": [
      "Intercept: 1.0615996476301783e-14\n",
      "Coefficients: [-5.858555301924561e-15, 1.0000000000000013]\n"
     ]
    }
   ],
   "source": [
    "# problem 10\n",
    "\n",
    "def polynomial_regression(x: List[float], y: List[float], degree: int) -> Tuple[float, List[float]]:\n",
    "    \"\"\"Perform polynomial regression and return the intercept and coefficients.\"\"\"\n",
    "    # Convert x and y to numpy arrays\n",
    "    x = np.array(x)\n",
    "    y = np.array(y)\n",
    "    \n",
    "    # Fit the polynomial regression model\n",
    "    coefficients = np.polyfit(x, y, degree)\n",
    "    \n",
    "    \n",
    "    intercept = coefficients[-1]\n",
    "    \n",
    "    # Get the coefficients of the polynomial (from highest degree to lowest)\n",
    "    polynomial_coefficients = coefficients[:-1][::-1]  # Reverse for standard polynomial form\n",
    "\n",
    "    return intercept, polynomial_coefficients.tolist()\n",
    "\n",
    "\n",
    "x = [1, 2, 3, 4]\n",
    "y = [1, 4, 9, 16]\n",
    "degree = 2\n",
    "\n",
    "intercept, coefficients = polynomial_regression(x, y, degree)\n",
    "print(\"Intercept:\", intercept)\n",
    "print(\"Coefficients:\", coefficients)\n"
   ]
  }
 ],
 "metadata": {
  "kernelspec": {
   "display_name": "base",
   "language": "python",
   "name": "python3"
  },
  "language_info": {
   "codemirror_mode": {
    "name": "ipython",
    "version": 3
   },
   "file_extension": ".py",
   "mimetype": "text/x-python",
   "name": "python",
   "nbconvert_exporter": "python",
   "pygments_lexer": "ipython3",
   "version": "3.9.13"
  }
 },
 "nbformat": 4,
 "nbformat_minor": 2
}
