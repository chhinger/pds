{
 "cells": [
  {
   "cell_type": "code",
   "execution_count": null,
   "metadata": {},
   "outputs": [],
   "source": [
    "class user:\n",
    "    Id: int\n",
    "    Name: str\n",
    "    Email: str\n",
    "    Age: int\n",
    "    \n",
    "    def __init__(seft,\n",
    "                Id: int,\n",
    "                Name: str,\n",
    "                Email:str,\n",
    "                Age: int,\n",
    "                ):\n",
    "                seft.Id = Id\n",
    "                seft.Name = Name\n",
    "                seft.Email = Email\n",
    "                seft.Age = Age\n",
    "                \n",
    "    def__str__(seft):\n",
    "        return \n",
    "    \n",
    "user = user(\n",
    "    Id = 17,\n",
    "    Name =\"nana\",\n",
    "    Emal =\"abc.gmail.com\" ,\n",
    "    Age = 18,    \n",
    ")\n",
    "print (user)\n",
    "print(user(model_dump))"
   ]
  },
  {
   "cell_type": "code",
   "execution_count": null,
   "metadata": {},
   "outputs": [],
   "source": [
    "from pydantic import BaseModel\n",
    "from pydantic import Field \n",
    "from pydantic import field_validator \n",
    "\n",
    "class user( BaseModel):\n",
    "    name = str \n",
    "    age = int = Field(...,gt =0)\n",
    "    \n",
    "    "
   ]
  },
  {
   "cell_type": "code",
   "execution_count": 1,
   "metadata": {},
   "outputs": [
    {
     "name": "stdout",
     "output_type": "stream",
     "text": [
      "Requirement already satisfied: pydantic in /Users/macintosh/opt/anaconda3/lib/python3.9/site-packages (2.9.2)\n",
      "Requirement already satisfied: pydantic-core==2.23.4 in /Users/macintosh/opt/anaconda3/lib/python3.9/site-packages (from pydantic) (2.23.4)\n",
      "Requirement already satisfied: annotated-types>=0.6.0 in /Users/macintosh/opt/anaconda3/lib/python3.9/site-packages (from pydantic) (0.7.0)\n",
      "Requirement already satisfied: typing-extensions>=4.6.1 in /Users/macintosh/opt/anaconda3/lib/python3.9/site-packages (from pydantic) (4.12.0)\n",
      "Note: you may need to restart the kernel to use updated packages.\n"
     ]
    }
   ],
   "source": [
    "# %pip install pydantic  work py.3.9.13"
   ]
  },
  {
   "cell_type": "code",
   "execution_count": null,
   "metadata": {},
   "outputs": [],
   "source": [
    "from pydantic_settings import BaseSettings\n",
    "class SEttings(BaseSrtttings):\n",
    "    temp: str\n",
    "Settings = Settings()\n",
    "print(Settings.temp)"
   ]
  },
  {
   "cell_type": "code",
   "execution_count": 1,
   "metadata": {},
   "outputs": [
    {
     "name": "stdout",
     "output_type": "stream",
     "text": [
      "Collecting pydantic_settings\n",
      "  Obtaining dependency information for pydantic_settings from https://files.pythonhosted.org/packages/34/19/26bb6bdb9fdad5f0dfce538780814084fb667b4bc37fcb28459c14b8d3b5/pydantic_settings-2.6.0-py3-none-any.whl.metadata\n",
      "  Downloading pydantic_settings-2.6.0-py3-none-any.whl.metadata (3.5 kB)\n",
      "Requirement already satisfied: pydantic>=2.7.0 in /Library/Frameworks/Python.framework/Versions/3.11/lib/python3.11/site-packages (from pydantic_settings) (2.9.2)\n",
      "Collecting python-dotenv>=0.21.0 (from pydantic_settings)\n",
      "  Obtaining dependency information for python-dotenv>=0.21.0 from https://files.pythonhosted.org/packages/6a/3e/b68c118422ec867fa7ab88444e1274aa40681c606d59ac27de5a5588f082/python_dotenv-1.0.1-py3-none-any.whl.metadata\n",
      "  Downloading python_dotenv-1.0.1-py3-none-any.whl.metadata (23 kB)\n",
      "Requirement already satisfied: annotated-types>=0.6.0 in /Library/Frameworks/Python.framework/Versions/3.11/lib/python3.11/site-packages (from pydantic>=2.7.0->pydantic_settings) (0.7.0)\n",
      "Requirement already satisfied: pydantic-core==2.23.4 in /Library/Frameworks/Python.framework/Versions/3.11/lib/python3.11/site-packages (from pydantic>=2.7.0->pydantic_settings) (2.23.4)\n",
      "Requirement already satisfied: typing-extensions>=4.6.1 in /Users/macintosh/Library/Python/3.11/lib/python/site-packages (from pydantic>=2.7.0->pydantic_settings) (4.12.2)\n",
      "Using cached pydantic_settings-2.6.0-py3-none-any.whl (28 kB)\n",
      "Using cached python_dotenv-1.0.1-py3-none-any.whl (19 kB)\n",
      "Installing collected packages: python-dotenv, pydantic_settings\n",
      "Successfully installed pydantic_settings-2.6.0 python-dotenv-1.0.1\n",
      "\n",
      "\u001b[1m[\u001b[0m\u001b[34;49mnotice\u001b[0m\u001b[1;39;49m]\u001b[0m\u001b[39;49m A new release of pip is available: \u001b[0m\u001b[31;49m23.2.1\u001b[0m\u001b[39;49m -> \u001b[0m\u001b[32;49m24.2\u001b[0m\n",
      "\u001b[1m[\u001b[0m\u001b[34;49mnotice\u001b[0m\u001b[1;39;49m]\u001b[0m\u001b[39;49m To update, run: \u001b[0m\u001b[32;49mpip3 install --upgrade pip\u001b[0m\n",
      "Note: you may need to restart the kernel to use updated packages.\n"
     ]
    }
   ],
   "source": [
    "%pip install pydantic_settings"
   ]
  },
  {
   "cell_type": "code",
   "execution_count": null,
   "metadata": {},
   "outputs": [],
   "source": [
    "# Ex Fast API\n"
   ]
  },
  {
   "cell_type": "code",
   "execution_count": null,
   "metadata": {},
   "outputs": [],
   "source": []
  },
  {
   "cell_type": "code",
   "execution_count": null,
   "metadata": {},
   "outputs": [],
   "source": []
  }
 ],
 "metadata": {
  "kernelspec": {
   "display_name": "Python 3",
   "language": "python",
   "name": "python3"
  },
  "language_info": {
   "codemirror_mode": {
    "name": "ipython",
    "version": 3
   },
   "file_extension": ".py",
   "mimetype": "text/x-python",
   "name": "python",
   "nbconvert_exporter": "python",
   "pygments_lexer": "ipython3",
   "version": "3.11.7"
  }
 },
 "nbformat": 4,
 "nbformat_minor": 2
}
